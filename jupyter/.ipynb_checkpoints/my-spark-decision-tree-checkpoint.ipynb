{
 "cells": [
  {
   "cell_type": "markdown",
   "metadata": {},
   "source": [
    "# Decision Tree Model"
   ]
  },
  {
   "cell_type": "markdown",
   "metadata": {},
   "source": [
    "import packages"
   ]
  },
  {
   "cell_type": "code",
   "execution_count": 1,
   "metadata": {},
   "outputs": [],
   "source": [
    "from pyspark.mllib.regression import LabeledPoint\n",
    "from pyspark.mllib.tree import DecisionTree\n",
    "from pyspark import SparkConf, SparkContext\n",
    "from numpy import array"
   ]
  },
  {
   "cell_type": "code",
   "execution_count": 7,
   "metadata": {},
   "outputs": [],
   "source": [
    "# converting Y/N into a binary 0 or 1.\n",
    "def binary(YN):\n",
    "    if (YN == 'Y'):\n",
    "        return 1\n",
    "    else:\n",
    "        return 0"
   ]
  },
  {
   "cell_type": "code",
   "execution_count": 8,
   "metadata": {},
   "outputs": [],
   "source": [
    "# converting a degree into a number 0-3\n",
    "def mapEducation(degree):\n",
    "    if (degree == 'BS'):\n",
    "        return 1\n",
    "    elif (degree =='MS'):\n",
    "        return 2\n",
    "    elif (degree == 'PhD'):\n",
    "        return 3\n",
    "    else:\n",
    "        return 0"
   ]
  },
  {
   "cell_type": "code",
   "execution_count": 9,
   "metadata": {},
   "outputs": [],
   "source": [
    "# It is necessary to map datapoints into integer fields ...\n",
    "def createLabeledPoints(fields):\n",
    "    yearsExperience = int(fields[0])\n",
    "    employed = binary(fields[1])\n",
    "    previousEmployers = int(fields[2])\n",
    "    educationLevel = mapEducation(fields[3])\n",
    "    topTier = binary(fields[4])\n",
    "    interned = binary(fields[5])\n",
    "    hired = binary(fields[6])\n",
    "\n",
    "    return LabeledPoint(hired, array([yearsExperience, employed, previousEmployers, educationLevel, topTier, interned]))"
   ]
  },
  {
   "cell_type": "code",
   "execution_count": 10,
   "metadata": {},
   "outputs": [
    {
     "data": {
      "text/plain": [
       "['10,Y,4,BS,N,N,Y',\n",
       " '0,N,0,BS,Y,Y,Y',\n",
       " '7,N,6,BS,N,N,N',\n",
       " '2,Y,1,MS,Y,N,Y',\n",
       " '20,N,2,PhD,Y,N,N',\n",
       " '0,N,0,PhD,Y,Y,Y',\n",
       " '5,Y,2,MS,N,Y,Y',\n",
       " '3,N,1,BS,N,Y,Y',\n",
       " '15,Y,5,BS,N,N,Y',\n",
       " '0,N,0,BS,N,N,N',\n",
       " '1,N,1,PhD,Y,N,N',\n",
       " '4,Y,1,BS,N,Y,Y',\n",
       " '0,N,0,PhD,Y,N,Y']"
      ]
     },
     "execution_count": 10,
     "metadata": {},
     "output_type": "execute_result"
    }
   ],
   "source": [
    "# Loading input / training file / transform into integer values\n",
    "input_file = \"/user/student/PastHires.csv\"\n",
    "raw_data = sc.textFile(input_file)\n",
    "header = raw_data.first()\n",
    "raw_data = raw_data.filter(lambda x:x != header)\n",
    "csv_data = raw_data.map(lambda x: x.split(','))\n",
    "raw_data.collect()"
   ]
  },
  {
   "cell_type": "code",
   "execution_count": 13,
   "metadata": {},
   "outputs": [
    {
     "data": {
      "text/plain": [
       "[LabeledPoint(1.0, [10.0,1.0,4.0,1.0,0.0,0.0]),\n",
       " LabeledPoint(1.0, [0.0,0.0,0.0,1.0,1.0,1.0]),\n",
       " LabeledPoint(0.0, [7.0,0.0,6.0,1.0,0.0,0.0]),\n",
       " LabeledPoint(1.0, [2.0,1.0,1.0,2.0,1.0,0.0]),\n",
       " LabeledPoint(0.0, [20.0,0.0,2.0,3.0,1.0,0.0]),\n",
       " LabeledPoint(1.0, [0.0,0.0,0.0,3.0,1.0,1.0]),\n",
       " LabeledPoint(1.0, [5.0,1.0,2.0,2.0,0.0,1.0]),\n",
       " LabeledPoint(1.0, [3.0,0.0,1.0,1.0,0.0,1.0]),\n",
       " LabeledPoint(1.0, [15.0,1.0,5.0,1.0,0.0,0.0]),\n",
       " LabeledPoint(0.0, [0.0,0.0,0.0,1.0,0.0,0.0]),\n",
       " LabeledPoint(0.0, [1.0,0.0,1.0,3.0,1.0,0.0]),\n",
       " LabeledPoint(1.0, [4.0,1.0,1.0,1.0,0.0,1.0]),\n",
       " LabeledPoint(1.0, [0.0,0.0,0.0,3.0,1.0,0.0])]"
      ]
     },
     "execution_count": 13,
     "metadata": {},
     "output_type": "execute_result"
    }
   ],
   "source": [
    "# Making training data\n",
    "training_data = csv_data.map(createLabeledPoints)\n",
    "training_data.collect()"
   ]
  },
  {
   "cell_type": "markdown",
   "metadata": {},
   "source": [
    "## Test using test_candidates variable with the same value as the training dataset"
   ]
  },
  {
   "cell_type": "code",
   "execution_count": 14,
   "metadata": {},
   "outputs": [],
   "source": [
    "test_candidates = [ array([10.0,1.0,4.0,1.0,0.0,0.0]), array([0.0,0.0,0.0,1.0,1.0,1.0]), array([7.0,0.0,6.0,1.0,0.0,0.0]) \\\n",
    "                  , array([2.0,1.0,1.0,2.0,1.0,0.0]), array([20.0,0.0,2.0,3.0,1.0,0.0]), array([0.0,0.0,0.0,3.0,1.0,1.0]) \\\n",
    "                  , array([5.0,1.0,2.0,2.0,0.0,1.0]), array([3.0,0.0,1.0,1.0,0.0,1.0]), array([15.0,1.0,5.0,1.0,0.0,0.0]) \\\n",
    "                  , array([0.0,0.0,0.0,1.0,0.0,0.0]), array([1.0,0.0,1.0,3.0,1.0,0.0]), array([4.0,1.0,1.0,1.0,0.0,1.0]) \\\n",
    "                  , array([0.0,0.0,0.0,3.0,1.0,0.0])]\n",
    "\n",
    "test_data = sc.parallelize(test_candidates)\n"
   ]
  },
  {
   "cell_type": "code",
   "execution_count": 15,
   "metadata": {},
   "outputs": [],
   "source": [
    "# decision tree learning model: statistics, data mining & machine learning\n",
    "# gini diversity index\n",
    "model = DecisionTree.trainClassifier(training_data, numClasses=2, \\\n",
    "                                     categoricalFeaturesInfo={1:2, 3:4, 4:2, 5:2}, \\\n",
    "                                     impurity='gini', maxDepth=5, maxBins=32)"
   ]
  },
  {
   "cell_type": "code",
   "execution_count": 16,
   "metadata": {},
   "outputs": [
    {
     "name": "stdout",
     "output_type": "stream",
     "text": [
      "Hire prediction:\n",
      "1.0\n",
      "1.0\n",
      "0.0\n",
      "1.0\n",
      "0.0\n",
      "1.0\n",
      "1.0\n",
      "1.0\n",
      "1.0\n",
      "0.0\n",
      "0.0\n",
      "1.0\n",
      "1.0\n"
     ]
    }
   ],
   "source": [
    "predictions = model.predict(test_data)\n",
    "print('Hire prediction:')\n",
    "results = predictions.collect()\n",
    "for result in results:\n",
    "    print(result)"
   ]
  },
  {
   "cell_type": "markdown",
   "metadata": {},
   "source": [
    "## Test another test_candidates with 10 different cases"
   ]
  },
  {
   "cell_type": "code",
   "execution_count": 18,
   "metadata": {},
   "outputs": [],
   "source": [
    "test_candidates2 = [ array([9.0,1.0,4.0,1.0,0.0,0.0]), array([8.0,0.0,0.0,1.0,1.0,1.0]), array([6.0,0.0,6.0,1.0,0.0,0.0]) \\\n",
    "                  , array([8.0,1.0,1.0,2.0,1.0,0.0]), array([10.0,0.0,2.0,3.0,1.0,0.0]), array([1.0,0.0,0.0,3.0,1.0,1.0]) \\\n",
    "                  , array([9.0,1.0,2.0,2.0,0.0,1.0]), array([13.0,0.0,1.0,1.0,0.0,1.0]), array([25.0,1.0,5.0,1.0,0.0,0.0]) \\\n",
    "                  , array([10.0,0.0,0.0,3.0,1.0,0.0])]\n",
    "\n",
    "test_data2 = sc.parallelize(test_candidates2)"
   ]
  },
  {
   "cell_type": "code",
   "execution_count": 19,
   "metadata": {},
   "outputs": [
    {
     "name": "stdout",
     "output_type": "stream",
     "text": [
      "Hire prediction:\n",
      "1.0\n",
      "1.0\n",
      "0.0\n",
      "1.0\n",
      "0.0\n",
      "1.0\n",
      "1.0\n",
      "1.0\n",
      "1.0\n",
      "0.0\n"
     ]
    }
   ],
   "source": [
    "predictions = model.predict(test_data2)\n",
    "print('Hire prediction:')\n",
    "results = predictions.collect()\n",
    "for result in results:\n",
    "    print(result)"
   ]
  },
  {
   "cell_type": "code",
   "execution_count": null,
   "metadata": {},
   "outputs": [],
   "source": []
  }
 ],
 "metadata": {
  "kernelspec": {
   "display_name": "Python 3",
   "language": "python",
   "name": "python3"
  },
  "language_info": {
   "codemirror_mode": {
    "name": "ipython",
    "version": 3
   },
   "file_extension": ".py",
   "mimetype": "text/x-python",
   "name": "python",
   "nbconvert_exporter": "python",
   "pygments_lexer": "ipython3",
   "version": "3.6.9"
  }
 },
 "nbformat": 4,
 "nbformat_minor": 2
}
